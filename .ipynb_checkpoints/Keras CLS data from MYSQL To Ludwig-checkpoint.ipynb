{
 "cells": [
  {
   "cell_type": "code",
   "execution_count": 5,
   "metadata": {},
   "outputs": [],
   "source": [
    "from keras.layers import Dense, Dropout\n",
    "from keras.layers import Dense, Activation\n",
    "from keras.models import Sequential\n",
    "import numpy as np\n",
    "import pandas as pd\n",
    "import mysql.connector\n",
    "\n",
    "import matplotlib.pyplot as plt\n",
    "%matplotlib inline"
   ]
  },
  {
   "cell_type": "code",
   "execution_count": 6,
   "metadata": {},
   "outputs": [],
   "source": [
    "con = mysql.connector.connect(\n",
    "    host='192.168.10.125', database='stocktips_prod', user='alpha', password='alpha')"
   ]
  },
  {
   "cell_type": "code",
   "execution_count": 7,
   "metadata": {},
   "outputs": [],
   "source": [
    "def get_all_data(product):\n",
    "    cur = con.cursor()\n",
    "    cur.execute(\n",
    "        \"select cls from products p, closing_prices c where p.id = c.product_id and p.name = '{0}' order by dt\".format(product))\n",
    "    rows = cur.fetchall()\n",
    "    return [i[0] for i in rows]"
   ]
  },
  {
   "cell_type": "code",
   "execution_count": 17,
   "metadata": {},
   "outputs": [],
   "source": [
    "rows = get_all_data(\"NFLX\")\n",
    "df = pd.DataFrame()\n",
    "df.insert(0, 0, rows)\n",
    "df.insert(1, 1, rows)\n",
    "df[1] = df[1].shift(1)\n",
    "df[1][0] = 0.0\n",
    "\n",
    "rows = get_all_data(\"MSFT\")\n",
    "df.insert(0, 2, rows)\n",
    "\n",
    "df.rename(columns={0: \"NFLX\", 1: \"NFLX-NEXTDAY\", 2: \"MSFT\"}, inplace=True)"
   ]
  },
  {
   "cell_type": "code",
   "execution_count": 81,
   "metadata": {},
   "outputs": [
    {
     "data": {
      "text/html": [
       "<div>\n",
       "<style scoped>\n",
       "    .dataframe tbody tr th:only-of-type {\n",
       "        vertical-align: middle;\n",
       "    }\n",
       "\n",
       "    .dataframe tbody tr th {\n",
       "        vertical-align: top;\n",
       "    }\n",
       "\n",
       "    .dataframe thead th {\n",
       "        text-align: right;\n",
       "    }\n",
       "</style>\n",
       "<table border=\"1\" class=\"dataframe\">\n",
       "  <thead>\n",
       "    <tr style=\"text-align: right;\">\n",
       "      <th></th>\n",
       "      <th>MSFT</th>\n",
       "      <th>NFLX</th>\n",
       "      <th>NFLX-NEXTDAY</th>\n",
       "    </tr>\n",
       "  </thead>\n",
       "  <tbody>\n",
       "    <tr>\n",
       "      <th>count</th>\n",
       "      <td>1257.000000</td>\n",
       "      <td>1257.000000</td>\n",
       "      <td>1257.000000</td>\n",
       "    </tr>\n",
       "    <tr>\n",
       "      <th>mean</th>\n",
       "      <td>63.753309</td>\n",
       "      <td>148.663842</td>\n",
       "      <td>148.409316</td>\n",
       "    </tr>\n",
       "    <tr>\n",
       "      <th>std</th>\n",
       "      <td>22.124969</td>\n",
       "      <td>98.077047</td>\n",
       "      <td>98.047347</td>\n",
       "    </tr>\n",
       "    <tr>\n",
       "      <th>min</th>\n",
       "      <td>35.010000</td>\n",
       "      <td>44.860000</td>\n",
       "      <td>0.000000</td>\n",
       "    </tr>\n",
       "    <tr>\n",
       "      <th>25%</th>\n",
       "      <td>46.230000</td>\n",
       "      <td>68.880000</td>\n",
       "      <td>68.770000</td>\n",
       "    </tr>\n",
       "    <tr>\n",
       "      <th>50%</th>\n",
       "      <td>55.870000</td>\n",
       "      <td>111.550000</td>\n",
       "      <td>111.400000</td>\n",
       "    </tr>\n",
       "    <tr>\n",
       "      <th>75%</th>\n",
       "      <td>76.000000</td>\n",
       "      <td>187.010000</td>\n",
       "      <td>186.820000</td>\n",
       "    </tr>\n",
       "    <tr>\n",
       "      <th>max</th>\n",
       "      <td>115.550000</td>\n",
       "      <td>703.000000</td>\n",
       "      <td>703.000000</td>\n",
       "    </tr>\n",
       "  </tbody>\n",
       "</table>\n",
       "</div>"
      ],
      "text/plain": [
       "              MSFT         NFLX  NFLX-NEXTDAY\n",
       "count  1257.000000  1257.000000   1257.000000\n",
       "mean     63.753309   148.663842    148.409316\n",
       "std      22.124969    98.077047     98.047347\n",
       "min      35.010000    44.860000      0.000000\n",
       "25%      46.230000    68.880000     68.770000\n",
       "50%      55.870000   111.550000    111.400000\n",
       "75%      76.000000   187.010000    186.820000\n",
       "max     115.550000   703.000000    703.000000"
      ]
     },
     "execution_count": 81,
     "metadata": {},
     "output_type": "execute_result"
    }
   ],
   "source": [
    "df.describe()"
   ]
  },
  {
   "cell_type": "code",
   "execution_count": 24,
   "metadata": {},
   "outputs": [
    {
     "name": "stdout",
     "output_type": "stream",
     "text": [
      "1257 1005\n"
     ]
    }
   ],
   "source": [
    "train_size = int(0.8*len(df.index))\n",
    "print(len(df.index),train_size)"
   ]
  },
  {
   "cell_type": "code",
   "execution_count": 71,
   "metadata": {},
   "outputs": [],
   "source": [
    "test_size = len(df.index) - train_size"
   ]
  },
  {
   "cell_type": "code",
   "execution_count": 74,
   "metadata": {},
   "outputs": [],
   "source": [
    "x_train = []\n",
    "y_train = []\n",
    "\n",
    "x_train.append(df[\"NFLX\"].head(train_size).values)\n",
    "x_train.append(df[\"MSFT\"].head(train_size).values)\n",
    "\n",
    "y_train.append(df[\"NFLX-NEXTDAY\"].head(train_size).values)"
   ]
  },
  {
   "cell_type": "code",
   "execution_count": 75,
   "metadata": {},
   "outputs": [],
   "source": [
    "x_test = []\n",
    "y_test = []\n",
    "\n",
    "x_test.append(df[\"NFLX\"].tail(test_size).values)\n",
    "y_test.append(df[\"NFLX-NEXTDAY\"].tail(test_size).values)"
   ]
  },
  {
   "cell_type": "code",
   "execution_count": 76,
   "metadata": {},
   "outputs": [
    {
     "data": {
      "text/plain": [
       "([array([ 47.45,  48.21,  48.27, ..., 205.16, 205.7 , 210.11]),\n",
       "  array([36.05, 35.01, 35.75, ..., 86.44, 87.22, 88.23])],\n",
       " [array([  0.  ,  47.45,  48.21, ..., 201.01, 205.16, 205.7 ])])"
      ]
     },
     "execution_count": 76,
     "metadata": {},
     "output_type": "execute_result"
    }
   ],
   "source": [
    "x_train, y_train"
   ]
  },
  {
   "cell_type": "code",
   "execution_count": 77,
   "metadata": {},
   "outputs": [],
   "source": [
    "#x_train = np.random.rand(10000)\n",
    "#y_train = np.empty(10000, dtype=float)\n",
    "#x_test = np.random.rand(1000)\n",
    "#y_test = np.empty(1000, dtype=float)"
   ]
  },
  {
   "cell_type": "code",
   "execution_count": 78,
   "metadata": {},
   "outputs": [],
   "source": [
    "#for i in range(10000):\n",
    "#        v = x_train[i]\n",
    "#        y_train[i] = np.sin(v)"
   ]
  },
  {
   "cell_type": "code",
   "execution_count": 79,
   "metadata": {},
   "outputs": [],
   "source": [
    "#for i in range(1000):\n",
    "#    v = x_test[i]\n",
    "#    y_test[i] = np.sin(v)"
   ]
  },
  {
   "cell_type": "code",
   "execution_count": 80,
   "metadata": {},
   "outputs": [],
   "source": [
    "model = Sequential()\n",
    "\n",
    "model.add(Dense(units=64, activation='relu', input_dim=1))\n",
    "model.add(Dense(units=32, activation='relu'))\n",
    "model.add(Dropout(0.05))\n",
    "model.add(Dense(units=16, activation='relu'))\n",
    "model.add(Dense(units=8, activation='relu'))\n",
    "model.add(Dropout(0.05))\n",
    "model.add(Dense(units=1, activation='relu'))"
   ]
  },
  {
   "cell_type": "code",
   "execution_count": 65,
   "metadata": {},
   "outputs": [],
   "source": [
    "#model.compile(loss='sparse_categorical_crossentropy',optimizer='sgd', metrics=$\n",
    "#model.compile(loss='binary_crossentropy',optimizer='adam', metrics=['accuracy'$\n",
    "model.compile(loss='mse',optimizer='adam', metrics=['accuracy'])"
   ]
  },
  {
   "cell_type": "code",
   "execution_count": 67,
   "metadata": {
    "scrolled": true
   },
   "outputs": [
    {
     "name": "stdout",
     "output_type": "stream",
     "text": [
      "Train on 1005 samples, validate on 252 samples\n",
      "Epoch 1/20\n",
      "1005/1005 [==============================] - 0s 42us/step - loss: 13285.5831 - acc: 9.9502e-04 - val_loss: 104794.0672 - val_acc: 0.0000e+00\n",
      "Epoch 2/20\n",
      "1005/1005 [==============================] - 0s 54us/step - loss: 13285.5829 - acc: 9.9502e-04 - val_loss: 104794.0672 - val_acc: 0.0000e+00\n",
      "Epoch 3/20\n",
      "1005/1005 [==============================] - 0s 66us/step - loss: 13285.4956 - acc: 9.9502e-04 - val_loss: 104794.0672 - val_acc: 0.0000e+00\n",
      "Epoch 4/20\n",
      "1005/1005 [==============================] - 0s 36us/step - loss: 13235.6867 - acc: 9.9502e-04 - val_loss: 104794.0672 - val_acc: 0.0000e+00\n",
      "Epoch 5/20\n",
      "1005/1005 [==============================] - 0s 35us/step - loss: 5507.7301 - acc: 0.0000e+00 - val_loss: 1128.5837 - val_acc: 0.0000e+00\n",
      "Epoch 6/20\n",
      "1005/1005 [==============================] - 0s 53us/step - loss: 1917.2446 - acc: 0.0000e+00 - val_loss: 1667.4240 - val_acc: 0.0000e+00\n",
      "Epoch 7/20\n",
      "1005/1005 [==============================] - 0s 37us/step - loss: 1612.3562 - acc: 0.0000e+00 - val_loss: 663.9424 - val_acc: 0.0000e+00\n",
      "Epoch 8/20\n",
      "1005/1005 [==============================] - 0s 62us/step - loss: 1702.1512 - acc: 0.0000e+00 - val_loss: 319.9976 - val_acc: 0.0040\n",
      "Epoch 9/20\n",
      "1005/1005 [==============================] - 0s 39us/step - loss: 1295.0463 - acc: 9.9502e-04 - val_loss: 814.9516 - val_acc: 0.0000e+00\n",
      "Epoch 10/20\n",
      "1005/1005 [==============================] - 0s 36us/step - loss: 1774.3346 - acc: 9.9502e-04 - val_loss: 2394.1203 - val_acc: 0.0000e+00\n",
      "Epoch 11/20\n",
      "1005/1005 [==============================] - 0s 33us/step - loss: 1255.8841 - acc: 0.0020 - val_loss: 859.8509 - val_acc: 0.0000e+00\n",
      "Epoch 12/20\n",
      "1005/1005 [==============================] - 0s 40us/step - loss: 1650.8047 - acc: 0.0000e+00 - val_loss: 4651.0489 - val_acc: 0.0000e+00\n",
      "Epoch 13/20\n",
      "1005/1005 [==============================] - 0s 44us/step - loss: 1660.2970 - acc: 0.0030 - val_loss: 472.1022 - val_acc: 0.0040\n",
      "Epoch 14/20\n",
      "1005/1005 [==============================] - 0s 42us/step - loss: 1431.8986 - acc: 0.0030 - val_loss: 2094.3934 - val_acc: 0.0000e+00\n",
      "Epoch 15/20\n",
      "1005/1005 [==============================] - 0s 38us/step - loss: 1798.3262 - acc: 0.0000e+00 - val_loss: 3253.0343 - val_acc: 0.0000e+00\n",
      "Epoch 16/20\n",
      "1005/1005 [==============================] - 0s 45us/step - loss: 1434.8433 - acc: 9.9502e-04 - val_loss: 617.4895 - val_acc: 0.0000e+00\n",
      "Epoch 17/20\n",
      "1005/1005 [==============================] - 0s 46us/step - loss: 1612.1603 - acc: 0.0050 - val_loss: 154.8874 - val_acc: 0.0079\n",
      "Epoch 18/20\n",
      "1005/1005 [==============================] - 0s 41us/step - loss: 1750.8630 - acc: 9.9502e-04 - val_loss: 428.2936 - val_acc: 0.0000e+00\n",
      "Epoch 19/20\n",
      "1005/1005 [==============================] - 0s 30us/step - loss: 1607.2956 - acc: 9.9502e-04 - val_loss: 3277.3134 - val_acc: 0.0000e+00\n",
      "Epoch 20/20\n",
      "1005/1005 [==============================] - 0s 35us/step - loss: 1504.2672 - acc: 0.0040 - val_loss: 3353.8293 - val_acc: 0.0000e+00\n"
     ]
    }
   ],
   "source": [
    "history = model.fit(x_train, y_train, epochs=20, validation_data=(x_test,y_test))"
   ]
  },
  {
   "cell_type": "code",
   "execution_count": null,
   "metadata": {
    "scrolled": true
   },
   "outputs": [],
   "source": []
  },
  {
   "cell_type": "code",
   "execution_count": 56,
   "metadata": {},
   "outputs": [
    {
     "name": "stdout",
     "output_type": "stream",
     "text": [
      "Epoch 1/20\n",
      "1005/1005 [==============================] - 0s 38us/step - loss: 938.1509 - acc: 0.0050\n",
      "Epoch 2/20\n",
      "1005/1005 [==============================] - 0s 41us/step - loss: 954.7390 - acc: 0.0040\n",
      "Epoch 3/20\n",
      "1005/1005 [==============================] - 0s 42us/step - loss: 954.6082 - acc: 0.0070\n",
      "Epoch 4/20\n",
      "1005/1005 [==============================] - 0s 32us/step - loss: 912.9872 - acc: 0.0020\n",
      "Epoch 5/20\n",
      "1005/1005 [==============================] - 0s 30us/step - loss: 931.4226 - acc: 0.0030\n",
      "Epoch 6/20\n",
      "1005/1005 [==============================] - 0s 29us/step - loss: 722.6855 - acc: 0.0030\n",
      "Epoch 7/20\n",
      "1005/1005 [==============================] - 0s 26us/step - loss: 783.4511 - acc: 0.0020 \n",
      "Epoch 8/20\n",
      "1005/1005 [==============================] - 0s 30us/step - loss: 934.3302 - acc: 0.0020\n",
      "Epoch 9/20\n",
      "1005/1005 [==============================] - 0s 39us/step - loss: 912.5273 - acc: 0.0080\n",
      "Epoch 10/20\n",
      "1005/1005 [==============================] - 0s 41us/step - loss: 941.9186 - acc: 0.0070\n",
      "Epoch 11/20\n",
      "1005/1005 [==============================] - 0s 38us/step - loss: 934.3410 - acc: 0.0070\n",
      "Epoch 12/20\n",
      "1005/1005 [==============================] - 0s 41us/step - loss: 893.2349 - acc: 9.9502e-04\n",
      "Epoch 13/20\n",
      "1005/1005 [==============================] - 0s 34us/step - loss: 739.5387 - acc: 0.0030\n",
      "Epoch 14/20\n",
      "1005/1005 [==============================] - 0s 35us/step - loss: 940.3622 - acc: 9.9502e-04\n",
      "Epoch 15/20\n",
      "1005/1005 [==============================] - 0s 28us/step - loss: 976.2847 - acc: 0.0030\n",
      "Epoch 16/20\n",
      "1005/1005 [==============================] - 0s 32us/step - loss: 942.7648 - acc: 0.0040\n",
      "Epoch 17/20\n",
      "1005/1005 [==============================] - 0s 34us/step - loss: 919.7428 - acc: 0.0030\n",
      "Epoch 18/20\n",
      "1005/1005 [==============================] - 0s 65us/step - loss: 936.1541 - acc: 0.0100\n",
      "Epoch 19/20\n",
      "1005/1005 [==============================] - 0s 35us/step - loss: 910.3587 - acc: 0.0030\n",
      "Epoch 20/20\n",
      "1005/1005 [==============================] - 0s 41us/step - loss: 721.7343 - acc: 0.0060\n"
     ]
    }
   ],
   "source": [
    "history = model.fit(x_train, y_train, epochs=20, batch_size=32)"
   ]
  },
  {
   "cell_type": "code",
   "execution_count": 43,
   "metadata": {},
   "outputs": [
    {
     "name": "stdout",
     "output_type": "stream",
     "text": [
      "--------------\n"
     ]
    },
    {
     "ename": "KeyError",
     "evalue": "0",
     "output_type": "error",
     "traceback": [
      "\u001b[0;31m---------------------------------------------------------------------------\u001b[0m",
      "\u001b[0;31mKeyError\u001b[0m                                  Traceback (most recent call last)",
      "\u001b[0;32m<ipython-input-43-0747112630f2>\u001b[0m in \u001b[0;36m<module>\u001b[0;34m\u001b[0m\n\u001b[1;32m      4\u001b[0m \u001b[0;32mfor\u001b[0m \u001b[0mi\u001b[0m \u001b[0;32min\u001b[0m \u001b[0mrange\u001b[0m\u001b[0;34m(\u001b[0m\u001b[0;36m100\u001b[0m\u001b[0;34m)\u001b[0m\u001b[0;34m:\u001b[0m\u001b[0;34m\u001b[0m\u001b[0m\n\u001b[1;32m      5\u001b[0m         \u001b[0mprint\u001b[0m\u001b[0;34m(\u001b[0m\u001b[0;34m\"--------------\"\u001b[0m\u001b[0;34m)\u001b[0m\u001b[0;34m\u001b[0m\u001b[0m\n\u001b[0;32m----> 6\u001b[0;31m         \u001b[0mprint\u001b[0m\u001b[0;34m(\u001b[0m\u001b[0;34m\"{:%0.6f}\"\u001b[0m\u001b[0;34m%\u001b[0m\u001b[0mx_test\u001b[0m\u001b[0;34m[\u001b[0m\u001b[0mi\u001b[0m\u001b[0;34m]\u001b[0m\u001b[0;34m)\u001b[0m\u001b[0;34m\u001b[0m\u001b[0m\n\u001b[0m\u001b[1;32m      7\u001b[0m         \u001b[0mprint\u001b[0m\u001b[0;34m(\u001b[0m\u001b[0;34m\"{:%0.6f}\"\u001b[0m\u001b[0;34m%\u001b[0m\u001b[0mclasses\u001b[0m\u001b[0;34m[\u001b[0m\u001b[0mi\u001b[0m\u001b[0;34m]\u001b[0m\u001b[0;34m)\u001b[0m\u001b[0;34m\u001b[0m\u001b[0m\n\u001b[1;32m      8\u001b[0m         \u001b[0mprint\u001b[0m\u001b[0;34m(\u001b[0m\u001b[0;34m\"{:%0.6f}\"\u001b[0m\u001b[0;34m%\u001b[0m\u001b[0mnp\u001b[0m\u001b[0;34m.\u001b[0m\u001b[0msin\u001b[0m\u001b[0;34m(\u001b[0m\u001b[0mx_test\u001b[0m\u001b[0;34m[\u001b[0m\u001b[0mi\u001b[0m\u001b[0;34m]\u001b[0m\u001b[0;34m)\u001b[0m\u001b[0;34m)\u001b[0m\u001b[0;34m\u001b[0m\u001b[0m\n",
      "\u001b[0;32m~/.pyenv/versions/3.6.6/lib/python3.6/site-packages/pandas/core/series.py\u001b[0m in \u001b[0;36m__getitem__\u001b[0;34m(self, key)\u001b[0m\n\u001b[1;32m    765\u001b[0m         \u001b[0mkey\u001b[0m \u001b[0;34m=\u001b[0m \u001b[0mcom\u001b[0m\u001b[0;34m.\u001b[0m\u001b[0m_apply_if_callable\u001b[0m\u001b[0;34m(\u001b[0m\u001b[0mkey\u001b[0m\u001b[0;34m,\u001b[0m \u001b[0mself\u001b[0m\u001b[0;34m)\u001b[0m\u001b[0;34m\u001b[0m\u001b[0m\n\u001b[1;32m    766\u001b[0m         \u001b[0;32mtry\u001b[0m\u001b[0;34m:\u001b[0m\u001b[0;34m\u001b[0m\u001b[0m\n\u001b[0;32m--> 767\u001b[0;31m             \u001b[0mresult\u001b[0m \u001b[0;34m=\u001b[0m \u001b[0mself\u001b[0m\u001b[0;34m.\u001b[0m\u001b[0mindex\u001b[0m\u001b[0;34m.\u001b[0m\u001b[0mget_value\u001b[0m\u001b[0;34m(\u001b[0m\u001b[0mself\u001b[0m\u001b[0;34m,\u001b[0m \u001b[0mkey\u001b[0m\u001b[0;34m)\u001b[0m\u001b[0;34m\u001b[0m\u001b[0m\n\u001b[0m\u001b[1;32m    768\u001b[0m \u001b[0;34m\u001b[0m\u001b[0m\n\u001b[1;32m    769\u001b[0m             \u001b[0;32mif\u001b[0m \u001b[0;32mnot\u001b[0m \u001b[0mis_scalar\u001b[0m\u001b[0;34m(\u001b[0m\u001b[0mresult\u001b[0m\u001b[0;34m)\u001b[0m\u001b[0;34m:\u001b[0m\u001b[0;34m\u001b[0m\u001b[0m\n",
      "\u001b[0;32m~/.pyenv/versions/3.6.6/lib/python3.6/site-packages/pandas/core/indexes/base.py\u001b[0m in \u001b[0;36mget_value\u001b[0;34m(self, series, key)\u001b[0m\n\u001b[1;32m   3116\u001b[0m         \u001b[0;32mtry\u001b[0m\u001b[0;34m:\u001b[0m\u001b[0;34m\u001b[0m\u001b[0m\n\u001b[1;32m   3117\u001b[0m             return self._engine.get_value(s, k,\n\u001b[0;32m-> 3118\u001b[0;31m                                           tz=getattr(series.dtype, 'tz', None))\n\u001b[0m\u001b[1;32m   3119\u001b[0m         \u001b[0;32mexcept\u001b[0m \u001b[0mKeyError\u001b[0m \u001b[0;32mas\u001b[0m \u001b[0me1\u001b[0m\u001b[0;34m:\u001b[0m\u001b[0;34m\u001b[0m\u001b[0m\n\u001b[1;32m   3120\u001b[0m             \u001b[0;32mif\u001b[0m \u001b[0mlen\u001b[0m\u001b[0;34m(\u001b[0m\u001b[0mself\u001b[0m\u001b[0;34m)\u001b[0m \u001b[0;34m>\u001b[0m \u001b[0;36m0\u001b[0m \u001b[0;32mand\u001b[0m \u001b[0mself\u001b[0m\u001b[0;34m.\u001b[0m\u001b[0minferred_type\u001b[0m \u001b[0;32min\u001b[0m \u001b[0;34m[\u001b[0m\u001b[0;34m'integer'\u001b[0m\u001b[0;34m,\u001b[0m \u001b[0;34m'boolean'\u001b[0m\u001b[0;34m]\u001b[0m\u001b[0;34m:\u001b[0m\u001b[0;34m\u001b[0m\u001b[0m\n",
      "\u001b[0;32mpandas/_libs/index.pyx\u001b[0m in \u001b[0;36mpandas._libs.index.IndexEngine.get_value\u001b[0;34m()\u001b[0m\n",
      "\u001b[0;32mpandas/_libs/index.pyx\u001b[0m in \u001b[0;36mpandas._libs.index.IndexEngine.get_value\u001b[0;34m()\u001b[0m\n",
      "\u001b[0;32mpandas/_libs/index.pyx\u001b[0m in \u001b[0;36mpandas._libs.index.IndexEngine.get_loc\u001b[0;34m()\u001b[0m\n",
      "\u001b[0;32mpandas/_libs/hashtable_class_helper.pxi\u001b[0m in \u001b[0;36mpandas._libs.hashtable.Int64HashTable.get_item\u001b[0;34m()\u001b[0m\n",
      "\u001b[0;32mpandas/_libs/hashtable_class_helper.pxi\u001b[0m in \u001b[0;36mpandas._libs.hashtable.Int64HashTable.get_item\u001b[0;34m()\u001b[0m\n",
      "\u001b[0;31mKeyError\u001b[0m: 0"
     ]
    }
   ],
   "source": [
    "# Create test data\n",
    "classes = model.predict(x_test, batch_size=30)\n",
    "\n",
    "for i in range(100):\n",
    "        print(\"--------------\")\n",
    "        print(\"{:%0.6f}\"%x_test[i])\n",
    "        print(\"{:%0.6f}\"%classes[i])\n",
    "        print(\"{:%0.6f}\"%np.sin(x_test[i]))"
   ]
  },
  {
   "cell_type": "code",
   "execution_count": 37,
   "metadata": {},
   "outputs": [
    {
     "data": {
      "text/plain": [
       "[<matplotlib.lines.Line2D at 0x7ff5edb61ac8>]"
      ]
     },
     "execution_count": 37,
     "metadata": {},
     "output_type": "execute_result"
    },
    {
     "data": {
      "image/png": "[encoded data removed]",
      "text/plain": [
       "<Figure size 432x288 with 1 Axes>"
      ]
     },
     "metadata": {
      "needs_background": "light"
     },
     "output_type": "display_data"
    }
   ],
   "source": [
    "plt.plot(history.history['loss'])\n",
    "plt.plot(history.history['val_loss'])"
   ]
  },
  {
   "cell_type": "code",
   "execution_count": 42,
   "metadata": {},
   "outputs": [
    {
     "name": "stdout",
     "output_type": "stream",
     "text": [
      "1000/1000 [==============================] - 0s 11us/step\n"
     ]
    }
   ],
   "source": [
    "scores = model.evaluate(x_test, y_test, verbose=1)"
   ]
  },
  {
   "cell_type": "code",
   "execution_count": 40,
   "metadata": {},
   "outputs": [
    {
     "data": {
      "text/plain": [
       "[2.944746581488289e-05, 0.0]"
      ]
     },
     "execution_count": 40,
     "metadata": {},
     "output_type": "execute_result"
    }
   ],
   "source": [
    "scores"
   ]
  },
  {
   "cell_type": "code",
   "execution_count": null,
   "metadata": {},
   "outputs": [],
   "source": []
  }
 ],
 "metadata": {
  "kernelspec": {
   "display_name": "Python 3",
   "language": "python",
   "name": "python3"
  },
  "language_info": {
   "codemirror_mode": {
    "name": "ipython",
    "version": 3
   },
   "file_extension": ".py",
   "mimetype": "text/x-python",
   "name": "python",
   "nbconvert_exporter": "python",
   "pygments_lexer": "ipython3",
   "version": "3.6.8"
  }
 },
 "nbformat": 4,
 "nbformat_minor": 2
}
